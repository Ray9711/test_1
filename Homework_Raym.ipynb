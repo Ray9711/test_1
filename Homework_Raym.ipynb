{
 "cells": [
  {
   "cell_type": "markdown",
   "metadata": {},
   "source": [
    "<center>\n",
    "    <img src=\"https://s3-api.us-geo.objectstorage.softlayer.net/cf-courses-data/CognitiveClass/Logos/organization_logo/organization_logo.png\" width=\"300\" alt=\"cognitiveclass.ai logo\"  />\n",
    "</center>\n"
   ]
  },
  {
   "cell_type": "markdown",
   "metadata": {},
   "source": [
    "My Jupyter Notebook on IBM Watson Studio"
   ]
  },
  {
   "cell_type": "markdown",
   "metadata": {},
   "source": [
    "Raym\n",
    "-------\n",
    "Product Manager"
   ]
  },
  {
   "cell_type": "markdown",
   "metadata": {
    "tags": []
   },
   "source": [
    "𝘋𝘢𝘵𝘢 𝘴𝘤𝘪𝘦𝘯𝘤𝘦 𝘪𝘴 𝘢 𝘨𝘳𝘦𝘢𝘵 𝘴𝘵𝘶𝘥𝘺 𝘸𝘩𝘪𝘤𝘩 𝘸𝘪𝘭𝘭 𝘩𝘦𝘭𝘱 𝘱𝘳𝘰𝘥𝘶𝘤𝘵 𝘮𝘢𝘯𝘢𝘨𝘦𝘳𝘴 𝘵𝘰 𝘥𝘳𝘢𝘸 𝘪𝘯𝘴𝘪𝘨𝘩𝘵𝘴 𝘧𝘳𝘰𝘮 𝘣𝘪𝘨 𝘥𝘢𝘵𝘢𝘴𝘦𝘵𝘴 𝘰𝘧 𝘤𝘶𝘴𝘵𝘰𝘮𝘦𝘳 𝘥𝘢𝘵𝘢 𝘢𝘯𝘥 𝘱𝘳𝘰𝘥𝘶𝘤𝘵 𝘥𝘢𝘵𝘢 𝘵𝘰 𝘮𝘢𝘬𝘦 𝘳𝘦𝘤𝘰𝘮𝘮𝘦𝘯𝘥𝘢𝘵𝘪𝘰𝘯 𝘵𝘰 𝘱𝘳𝘰𝘥𝘶𝘤𝘵𝘴."
   ]
  },
  {
   "cell_type": "markdown",
   "metadata": {},
   "source": [
    "### This is an example of recursion in python"
   ]
  },
  {
   "cell_type": "code",
   "execution_count": 4,
   "metadata": {},
   "outputs": [
    {
     "name": "stdout",
     "output_type": "stream",
     "text": [
      "1\n",
      "3\n",
      "6\n",
      "10\n",
      "15\n",
      "21\n"
     ]
    },
    {
     "data": {
      "text/plain": [
       "21"
      ]
     },
     "execution_count": 4,
     "metadata": {},
     "output_type": "execute_result"
    }
   ],
   "source": [
    "def three_time_recursion(k):\n",
    "  if(k>0):\n",
    "    result = k+three_time_recursion(k-1)\n",
    "    print(result)\n",
    "  else:\n",
    "    result = 0\n",
    "  return result\n",
    "three_time_recursion(6)"
   ]
  },
  {
   "cell_type": "markdown",
   "metadata": {},
   "source": [
    "HTML: \n",
    "https://cf-courses-data.s3.us.cloud-object-storage.appdomain.cloud/IBMDeveloperSkillsNetwork-DS0105EN-SkillsNetwork/labs/FinalModule_Coursera/Final_Instruction_toolforDS.md.html?origin=www.coursera.org\n",
    "\n",
    "Tables: \n",
    "| python | Julia | R |\n",
    "| --- | --- | --- |\n",
    "| 1 | 2 | 3 |\n",
    "\n",
    "Bulleted list:\n",
    " - Python\n",
    " - Julia\n",
    " - R\n",
    "\n",
    "\n"
   ]
  },
  {
   "cell_type": "code",
   "execution_count": null,
   "metadata": {},
   "outputs": [],
   "source": []
  }
 ],
 "metadata": {
  "kernelspec": {
   "display_name": "Python",
   "language": "python",
   "name": "conda-env-python-py"
  },
  "language_info": {
   "codemirror_mode": {
    "name": "ipython",
    "version": 3
   },
   "file_extension": ".py",
   "mimetype": "text/x-python",
   "name": "python",
   "nbconvert_exporter": "python",
   "pygments_lexer": "ipython3",
   "version": "3.7.12"
  }
 },
 "nbformat": 4,
 "nbformat_minor": 4
}
